{
 "cells": [
  {
   "cell_type": "code",
   "execution_count": null,
   "id": "55e65f40",
   "metadata": {},
   "outputs": [],
   "source": [
    "import requests\n",
    "import subprocess\n",
    "import webbrowser\n",
    "import time\n",
    "import os\n",
    "from selenium import webdriver\n",
    "from webdriver_manager.chrome import ChromeDriverManager\n",
    "from selenium.webdriver.common.by import By\n",
    "from selenium.webdriver.chrome.service import Service\n",
    "from bs4 import BeautifulSoup"
   ]
  },
  {
   "cell_type": "code",
   "execution_count": null,
   "id": "df5823ff",
   "metadata": {},
   "outputs": [],
   "source": [
    "issues_list=['https://github.com/tensorflow/tensorflow/issues/59970',\n",
    "             'https://github.com/tensorflow/tensorflow/issues/59966',\n",
    "             'https://github.com/tensorflow/tensorflow/issues/59960',\n",
    "             'https://github.com/tensorflow/tensorflow/issues/59965',\n",
    "             'https://github.com/tensorflow/tensorflow/issues/59959',\n",
    "             'https://github.com/tensorflow/tensorflow/issues/59954',\n",
    "             'https://github.com/tensorflow/tensorflow/issues/59950',\n",
    "             'https://github.com/tensorflow/tensorflow/issues/59931',\n",
    "             'https://github.com/tensorflow/tensorflow/issues/59929',\n",
    "             'https://github.com/tensorflow/tensorflow/issues/59928',\n",
    "             'https://github.com/tensorflow/tensorflow/issues/59927',\n",
    "             'https://github.com/tensorflow/tensorflow/issues/59934',\n",
    "             'https://github.com/tensorflow/tensorflow/issues/59933',\n",
    "             'https://github.com/tensorflow/tensorflow/issues/59921',\n",
    "             'https://github.com/tensorflow/tensorflow/issues/59926',\n",
    "             'https://github.com/tensorflow/tensorflow/issues/59920',\n",
    "             'https://github.com/tensorflow/tensorflow/issues/59897',\n",
    "             'https://github.com/tensorflow/tensorflow/issues/59883',\n",
    "             'https://github.com/tensorflow/tensorflow/issues/59884',\n",
    "             'https://github.com/tensorflow/tensorflow/issues/59888',\n",
    "             'https://github.com/tensorflow/tensorflow/issues/55546',\n",
    "             'https://github.com/tensorflow/tensorflow/issues/55965',\n",
    "             'https://github.com/tensorflow/tensorflow/issues/56962',\n",
    "             'https://github.com/tensorflow/tensorflow/issues/54923',\n",
    "             'https://github.com/tensorflow/tensorflow/issues/40044',\n",
    "             'https://github.com/tensorflow/tensorflow/issues/60007',\n",
    "             'https://github.com/keras-team/keras/issues/17261']"
   ]
  },
  {
   "cell_type": "code",
   "execution_count": null,
   "id": "ae8c0149",
   "metadata": {},
   "outputs": [],
   "source": [
    "files_present_in_dir=['.ipynb_checkpoints', 'Issue_Repo']"
   ]
  },
  {
   "cell_type": "code",
   "execution_count": null,
   "id": "d1191ff4",
   "metadata": {},
   "outputs": [],
   "source": [
    "for issue in issues_list:\n",
    "    links=[]\n",
    "    colablinks=[]\n",
    "    page=requests.get(issue)\n",
    "    bs=BeautifulSoup(page.content,'html.parser')\n",
    "    link_list=bs.find_all('a')\n",
    "    for link in link_list:\n",
    "        if 'href' in link.attrs:\n",
    "            links.append(str(link.attrs['href'])+'\\n')\n",
    "    colablinks=[]        \n",
    "    for link in links:\n",
    "        if('https://colab.research.google.com/gist/' in link or 'https://colab.sandbox.google.com/gist/' in link):\n",
    "            colablinks.append(link)\n",
    "    if len(colablinks)==0:\n",
    "        continue\n",
    "    gist=colablinks[-1]\n",
    "    gist=gist.strip('\\n')\n",
    "    driver=webdriver.Chrome(service=Service(ChromeDriverManager().install()))\n",
    "    driver.get(gist)\n",
    "    driver.find_element(by=By.XPATH,value='//*[@id=\"file-menu-button\"]/div/div').click()\n",
    "    driver.implicitly_wait(10)\n",
    "    driver.find_element(by=By.XPATH,value='//*[@id=\"download-submenu-menu-button\"]').click()\n",
    "    driver.implicitly_wait(10)    \n",
    "    driver.find_element(by=By.XPATH,value='//div[@command=\"download-ipynb\"]').click()\n",
    "    gist_number=gist.strip('https://github.com/tensorflow/tensorflow/issues/')\n",
    "    file_names=os.listdir('Downloads/')\n",
    "    if 'tensorflow' in issue:\n",
    "        gist_number=issue.strip('https://github.com/tensorflow/tensorflow/issues/')\n",
    "    else:\n",
    "        gist_number=issue.strip('https://github.com/keras-team/keras/issues/')\n",
    "    time.sleep(3)\n",
    "    file_names=os.listdir('Downloads/')\n",
    "    for file in file_names:\n",
    "        if file not in files_present_in_dir :\n",
    "            source='Downloads/'+file\n",
    "            destination='Downloads/'+gist_number+'.ipynb'\n",
    "            os.rename(source,destination)\n",
    "            file_name=gist_number+'.ipynb'\n",
    "            files_present_in_dir.append(file_name)\n",
    "    time.sleep(3)\n",
    "    driver.quit()"
   ]
  },
  {
   "cell_type": "code",
   "execution_count": null,
   "id": "dc7d4409",
   "metadata": {},
   "outputs": [],
   "source": [
    "name=['.ipynb_checkpoints', 'Issue_Repo']"
   ]
  },
  {
   "cell_type": "code",
   "execution_count": null,
   "id": "00339508",
   "metadata": {},
   "outputs": [],
   "source": [
    "downloaded_files=[]\n",
    "dir_path = 'Downloads/'\n",
    "file_names = os.listdir(dir_path)\n",
    "for names in file_names:\n",
    "    if names not in name: \n",
    "        downloaded_files.append(names)"
   ]
  },
  {
   "cell_type": "code",
   "execution_count": null,
   "id": "13e52467",
   "metadata": {},
   "outputs": [],
   "source": [
    "downloaded_files"
   ]
  },
  {
   "cell_type": "code",
   "execution_count": null,
   "id": "ea368068",
   "metadata": {},
   "outputs": [],
   "source": [
    "%cd Downloads"
   ]
  },
  {
   "cell_type": "code",
   "execution_count": null,
   "id": "b3075328",
   "metadata": {},
   "outputs": [],
   "source": [
    "!jupyter nbconvert --to script *.ipynb"
   ]
  },
  {
   "cell_type": "code",
   "execution_count": null,
   "id": "822ee7b4",
   "metadata": {},
   "outputs": [],
   "source": [
    "txt_files = [f for f in os.listdir('.') if os.path.isfile(f) and f.endswith('.txt')]"
   ]
  },
  {
   "cell_type": "code",
   "execution_count": null,
   "id": "a41b1e77",
   "metadata": {},
   "outputs": [],
   "source": [
    "for file in txt_files:\n",
    "    with open(file, 'r') as f:\n",
    "        lines = f.readlines()\n",
    "    with open(file, 'w') as f:\n",
    "        for line in lines:\n",
    "            if not line.startswith('!pip'):\n",
    "                f.write(line)"
   ]
  },
  {
   "cell_type": "code",
   "execution_count": null,
   "id": "f8cc3296",
   "metadata": {},
   "outputs": [],
   "source": [
    "txt_files"
   ]
  },
  {
   "cell_type": "code",
   "execution_count": null,
   "id": "ce5ea4c6",
   "metadata": {},
   "outputs": [],
   "source": [
    "for file in txt_files:\n",
    "    with open(file,\"a\") as f:\n",
    "        f.write(\"\\n\")\n",
    "        f.write(\"print('Success Fully Executed')\")\n",
    "    f.close()"
   ]
  },
  {
   "cell_type": "code",
   "execution_count": null,
   "id": "7a949cdd",
   "metadata": {},
   "outputs": [],
   "source": [
    "status_list=[]\n",
    "for file in txt_files:\n",
    "    with open(\"output.txt\", \"w+\") as f:\n",
    "        subprocess.call([\"python\", file], stdout=f)     \n",
    "    f.close()\n",
    "    with open(\"output.txt\", \"r\") as f:\n",
    "        lines = f.readlines()\n",
    "        if len(lines)==0:\n",
    "            status_list.append(f\"{file} Not Executed successfully\")\n",
    "            continue\n",
    "        line = lines[-1:]\n",
    "    f.close()\n",
    "    if line[0] == 'Success Fully Executed\\n':\n",
    "        status_list.append(f\"{file} Executed successfully\")\n",
    "    else:\n",
    "        status_list.append(f\"{file} Not Executed successfully\")"
   ]
  },
  {
   "cell_type": "code",
   "execution_count": null,
   "id": "e2d84799",
   "metadata": {},
   "outputs": [],
   "source": [
    "status_list"
   ]
  },
  {
   "cell_type": "code",
   "execution_count": null,
   "id": "6529d7a9",
   "metadata": {},
   "outputs": [],
   "source": []
  },
  {
   "cell_type": "code",
   "execution_count": null,
   "id": "d21f28c0",
   "metadata": {},
   "outputs": [],
   "source": []
  },
  {
   "cell_type": "code",
   "execution_count": null,
   "id": "382352d5",
   "metadata": {},
   "outputs": [],
   "source": []
  },
  {
   "cell_type": "code",
   "execution_count": null,
   "id": "c8c6eccc",
   "metadata": {},
   "outputs": [],
   "source": []
  },
  {
   "cell_type": "code",
   "execution_count": null,
   "id": "e55811ab",
   "metadata": {},
   "outputs": [],
   "source": []
  },
  {
   "cell_type": "code",
   "execution_count": null,
   "id": "002cf070",
   "metadata": {},
   "outputs": [],
   "source": []
  }
 ],
 "metadata": {
  "kernelspec": {
   "display_name": "Python 3 (ipykernel)",
   "language": "python",
   "name": "python3"
  },
  "language_info": {
   "codemirror_mode": {
    "name": "ipython",
    "version": 3
   },
   "file_extension": ".py",
   "mimetype": "text/x-python",
   "name": "python",
   "nbconvert_exporter": "python",
   "pygments_lexer": "ipython3",
   "version": "3.9.16"
  }
 },
 "nbformat": 4,
 "nbformat_minor": 5
}
