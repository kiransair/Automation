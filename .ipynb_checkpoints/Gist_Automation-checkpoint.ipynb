{
 "cells": [
  {
   "cell_type": "code",
   "execution_count": 1,
   "id": "55e65f40",
   "metadata": {},
   "outputs": [],
   "source": [
    "import requests\n",
    "import subprocess\n",
    "import webbrowser\n",
    "import time\n",
    "import os\n",
    "from selenium import webdriver\n",
    "from webdriver_manager.chrome import ChromeDriverManager\n",
    "from selenium.webdriver.common.by import By\n",
    "from selenium.webdriver.chrome.service import Service\n",
    "from bs4 import BeautifulSoup"
   ]
  },
  {
   "cell_type": "code",
   "execution_count": 2,
   "id": "df5823ff",
   "metadata": {},
   "outputs": [],
   "source": [
    "issues_list=['https://github.com/tensorflow/tensorflow/issues/55546',\n",
    "            'https://github.com/tensorflow/tensorflow/issues/55965',\n",
    "            'https://github.com/tensorflow/tensorflow/issues/56962',\n",
    "            'https://github.com/tensorflow/tensorflow/issues/54923',\n",
    "            'https://github.com/tensorflow/tensorflow/issues/40044']"
   ]
  },
  {
   "cell_type": "code",
   "execution_count": 3,
   "id": "ea64aa89",
   "metadata": {},
   "outputs": [],
   "source": [
    "#issues_list=['https://github.com/tensorflow/tensorflow/issues/60007']\n",
    "#issues_list=['https://github.com/tensorflow/tensorflow/issues/59965']\n"
   ]
  },
  {
   "cell_type": "code",
   "execution_count": 4,
   "id": "d1191ff4",
   "metadata": {},
   "outputs": [],
   "source": [
    "for issue in issues_list:\n",
    "    links=[]\n",
    "    colablinks=[]\n",
    "    page=requests.get(issue)\n",
    "    bs=BeautifulSoup(page.content,'html.parser')\n",
    "    link_list=bs.find_all('a')\n",
    "    for link in link_list:\n",
    "        if 'href' in link.attrs:\n",
    "            links.append(str(link.attrs['href'])+'\\n')\n",
    "    colablinks=[]        \n",
    "    for link in links:\n",
    "        if ('https://colab.research.google.com/gist/' in link or 'https://colab.sandbox.google.com/gist/' in link):\n",
    "            colablinks.append(link)\n",
    "    if len(colablinks)==0:\n",
    "        continue\n",
    "    gist=colablinks[-1]\n",
    "    gist=gist.strip('\\n')\n",
    "    driver=webdriver.Chrome(service=Service(ChromeDriverManager().install()))\n",
    "    driver.get(gist)\n",
    "    driver.find_element(by=By.XPATH,value='//*[@id=\"file-menu-button\"]/div/div').click()\n",
    "    driver.implicitly_wait(10)\n",
    "    driver.find_element(by=By.XPATH,value='//*[@id=\"download-submenu-menu-button\"]').click()\n",
    "    driver.implicitly_wait(10)    \n",
    "    driver.find_element(by=By.XPATH,value='//div[@command=\"download-ipynb\"]').click()\n",
    "time.sleep(3)\n",
    "driver.quit()"
   ]
  },
  {
   "cell_type": "code",
   "execution_count": 5,
   "id": "dc7d4409",
   "metadata": {},
   "outputs": [],
   "source": [
    "name=['.ipynb_checkpoints', 'Issue_Repo']"
   ]
  },
  {
   "cell_type": "code",
   "execution_count": 6,
   "id": "00339508",
   "metadata": {},
   "outputs": [],
   "source": [
    "downloaded_files=[]\n",
    "dir_path = 'Downloads/'\n",
    "file_names = os.listdir(dir_path)\n",
    "for names in file_names:\n",
    "    if names not in name: \n",
    "        downloaded_files.append(names)"
   ]
  },
  {
   "cell_type": "code",
   "execution_count": 7,
   "id": "13e52467",
   "metadata": {},
   "outputs": [
    {
     "data": {
      "text/plain": [
       "['59950_r1.txt',\n",
       " '59965.txt',\n",
       " '59926_r1.ipynb',\n",
       " '59950_r1.ipynb',\n",
       " '59960.txt',\n",
       " '59926_r1.txt',\n",
       " '_59920_test.ipynb',\n",
       " '59965 (1).ipynb',\n",
       " '59965.ipynb',\n",
       " '59960.ipynb',\n",
       " 'output.txt',\n",
       " '_59920_test.txt']"
      ]
     },
     "execution_count": 7,
     "metadata": {},
     "output_type": "execute_result"
    }
   ],
   "source": [
    "downloaded_files"
   ]
  },
  {
   "cell_type": "code",
   "execution_count": 8,
   "id": "ea368068",
   "metadata": {},
   "outputs": [
    {
     "name": "stdout",
     "output_type": "stream",
     "text": [
      "/usr/local/google/home/kiransair/Downloads\n"
     ]
    }
   ],
   "source": [
    "%cd Downloads"
   ]
  },
  {
   "cell_type": "code",
   "execution_count": 9,
   "id": "b3075328",
   "metadata": {},
   "outputs": [
    {
     "name": "stdout",
     "output_type": "stream",
     "text": [
      "[NbConvertApp] Converting notebook _59920_test.ipynb to script\n",
      "[NbConvertApp] Writing 355 bytes to _59920_test.txt\n",
      "[NbConvertApp] Converting notebook 59926_r1.ipynb to script\n",
      "[NbConvertApp] Writing 1032 bytes to 59926_r1.txt\n",
      "[NbConvertApp] Converting notebook 59950_r1.ipynb to script\n",
      "[NbConvertApp] Writing 5503 bytes to 59950_r1.txt\n",
      "[NbConvertApp] Converting notebook 59960.ipynb to script\n",
      "[NbConvertApp] Writing 1316 bytes to 59960.txt\n",
      "[NbConvertApp] Converting notebook 59965 (1).ipynb to script\n",
      "[NbConvertApp] Writing 538 bytes to 59965 (1).txt\n",
      "[NbConvertApp] Converting notebook 59965.ipynb to script\n",
      "[NbConvertApp] Writing 538 bytes to 59965.txt\n"
     ]
    }
   ],
   "source": [
    "!jupyter nbconvert --to script *.ipynb"
   ]
  },
  {
   "cell_type": "code",
   "execution_count": 10,
   "id": "822ee7b4",
   "metadata": {},
   "outputs": [],
   "source": [
    "txt_files = [f for f in os.listdir('.') if os.path.isfile(f) and f.endswith('.txt')]"
   ]
  },
  {
   "cell_type": "code",
   "execution_count": 11,
   "id": "a41b1e77",
   "metadata": {},
   "outputs": [],
   "source": [
    "for file in txt_files:\n",
    "    with open(file, 'r') as f:\n",
    "        lines = f.readlines()\n",
    "    with open(file, 'w') as f:\n",
    "        for line in lines:\n",
    "            if not line.startswith('!pip'):\n",
    "                f.write(line)"
   ]
  },
  {
   "cell_type": "code",
   "execution_count": 12,
   "id": "f8cc3296",
   "metadata": {},
   "outputs": [
    {
     "data": {
      "text/plain": [
       "['59950_r1.txt',\n",
       " '59965.txt',\n",
       " '59960.txt',\n",
       " '59926_r1.txt',\n",
       " 'output.txt',\n",
       " '59965 (1).txt',\n",
       " '_59920_test.txt']"
      ]
     },
     "execution_count": 12,
     "metadata": {},
     "output_type": "execute_result"
    }
   ],
   "source": [
    "txt_files"
   ]
  },
  {
   "cell_type": "code",
   "execution_count": 13,
   "id": "ce5ea4c6",
   "metadata": {},
   "outputs": [],
   "source": [
    "for file in txt_files:\n",
    "    with open(file,\"a\") as f:\n",
    "        f.write(\"\\n\")\n",
    "        f.write(\"print('Success Fully Executed')\")\n",
    "    f.close()"
   ]
  },
  {
   "cell_type": "code",
   "execution_count": 14,
   "id": "7a949cdd",
   "metadata": {},
   "outputs": [
    {
     "name": "stderr",
     "output_type": "stream",
     "text": [
      "2023-04-12 10:51:52.328611: I tensorflow/tsl/cuda/cudart_stub.cc:28] Could not find cuda drivers on your machine, GPU will not be used.\n",
      "2023-04-12 10:51:52.365895: I tensorflow/tsl/cuda/cudart_stub.cc:28] Could not find cuda drivers on your machine, GPU will not be used.\n",
      "2023-04-12 10:51:52.366342: I tensorflow/core/platform/cpu_feature_guard.cc:182] This TensorFlow binary is optimized to use available CPU instructions in performance-critical operations.\n",
      "To enable the following instructions: AVX2 FMA, in other operations, rebuild TensorFlow with the appropriate compiler flags.\n",
      "2023-04-12 10:51:53.153617: W tensorflow/compiler/tf2tensorrt/utils/py_utils.cc:38] TF-TRT Warning: Could not find TensorRT\n",
      "Traceback (most recent call last):\n",
      "  File \"/usr/local/google/home/kiransair/Downloads/59950_r1.txt\", line 18, in <module>\n",
      "    des_data = tf.io.parse_single_sequence_example(data,\n",
      "  File \"/usr/local/google/home/kiransair/miniconda3/envs/TF/lib/python3.9/site-packages/tensorflow/python/util/traceback_utils.py\", line 153, in error_handler\n",
      "    raise e.with_traceback(filtered_tb) from None\n",
      "  File \"/usr/local/google/home/kiransair/miniconda3/envs/TF/lib/python3.9/site-packages/tensorflow/python/ops/parsing_ops.py\", line 609, in _parse_sequence_example_raw\n",
      "    raise ValueError(\"Value feature_list.dense_defaults[%s] must be None\" %\n",
      "ValueError: Value feature_list.dense_defaults[f1] must be None\n",
      "Traceback (most recent call last):\n",
      "  File \"/usr/local/google/home/kiransair/Downloads/59965.txt\", line 2, in <module>\n",
      "    import tensorflow_hub as hub\n",
      "ModuleNotFoundError: No module named 'tensorflow_hub'\n",
      "2023-04-12 10:51:54.710335: I tensorflow/tsl/cuda/cudart_stub.cc:28] Could not find cuda drivers on your machine, GPU will not be used.\n",
      "2023-04-12 10:51:54.747359: I tensorflow/tsl/cuda/cudart_stub.cc:28] Could not find cuda drivers on your machine, GPU will not be used.\n",
      "2023-04-12 10:51:54.747812: I tensorflow/core/platform/cpu_feature_guard.cc:182] This TensorFlow binary is optimized to use available CPU instructions in performance-critical operations.\n",
      "To enable the following instructions: AVX2 FMA, in other operations, rebuild TensorFlow with the appropriate compiler flags.\n",
      "2023-04-12 10:51:55.576776: W tensorflow/compiler/tf2tensorrt/utils/py_utils.cc:38] TF-TRT Warning: Could not find TensorRT\n",
      "Traceback (most recent call last):\n",
      "  File \"/usr/local/google/home/kiransair/Downloads/59960.txt\", line 17, in <module>\n",
      "    output = func(tensor)\n",
      "  File \"/usr/local/google/home/kiransair/Downloads/59960.txt\", line 7, in func\n",
      "    quanti = tf.quantization.quantize_and_dequantize_v2(tensor, \n",
      "  File \"/usr/local/google/home/kiransair/miniconda3/envs/TF/lib/python3.9/site-packages/tensorflow/python/util/traceback_utils.py\", line 153, in error_handler\n",
      "    raise e.with_traceback(filtered_tb) from None\n",
      "  File \"/tmp/__autograph_generated_fileuk7t26am.py\", line 81, in tf___jvp_helper_wrapper\n",
      "    ag__.if_stmt(ag__.ld(use_batch), if_body_1, else_body_1, get_state_2, set_state_2, ('do_return', 'retval_'), 2)\n",
      "  File \"/tmp/__autograph_generated_fileuk7t26am.py\", line 75, in else_body_1\n",
      "    retval_ = ag__.converted_call(ag__.ld(_jvp_helper), (ag__.ld(op_name), ag__.ld(attr_tuple), ag__.ld(inputs), ag__.ld(outputs), ag__.ld(tangents)), None, fscope)\n",
      "TypeError: in user code:\n",
      "\n",
      "\n",
      "    TypeError: _QuantizeAndDequantizeV4GradGrad() takes 2 positional arguments but 4 were given\n",
      "\n",
      "2023-04-12 10:51:57.326994: I tensorflow/tsl/cuda/cudart_stub.cc:28] Could not find cuda drivers on your machine, GPU will not be used.\n",
      "2023-04-12 10:51:57.363509: I tensorflow/tsl/cuda/cudart_stub.cc:28] Could not find cuda drivers on your machine, GPU will not be used.\n",
      "2023-04-12 10:51:57.364026: I tensorflow/core/platform/cpu_feature_guard.cc:182] This TensorFlow binary is optimized to use available CPU instructions in performance-critical operations.\n",
      "To enable the following instructions: AVX2 FMA, in other operations, rebuild TensorFlow with the appropriate compiler flags.\n",
      "2023-04-12 10:51:58.214632: W tensorflow/compiler/tf2tensorrt/utils/py_utils.cc:38] TF-TRT Warning: Could not find TensorRT\n",
      "2023-04-12 10:51:58.942252: I tensorflow/core/common_runtime/executor.cc:1197] [/device:CPU:0] (DEBUG INFO) Executor start aborting (this does not indicate an error and you can ignore this message): INVALID_ARGUMENT: You must feed a value for placeholder tensor 'Placeholder/_1' with dtype variant and shape [2]\n",
      "\t [[{{node Placeholder/_1}}]]\n",
      "Traceback (most recent call last):\n",
      "  File \"/usr/local/google/home/kiransair/Downloads/59965 (1).txt\", line 2, in <module>\n",
      "    import tensorflow_hub as hub\n",
      "ModuleNotFoundError: No module named 'tensorflow_hub'\n",
      "2023-04-12 10:51:59.911198: I tensorflow/tsl/cuda/cudart_stub.cc:28] Could not find cuda drivers on your machine, GPU will not be used.\n",
      "2023-04-12 10:51:59.947707: I tensorflow/tsl/cuda/cudart_stub.cc:28] Could not find cuda drivers on your machine, GPU will not be used.\n",
      "2023-04-12 10:51:59.948265: I tensorflow/core/platform/cpu_feature_guard.cc:182] This TensorFlow binary is optimized to use available CPU instructions in performance-critical operations.\n",
      "To enable the following instructions: AVX2 FMA, in other operations, rebuild TensorFlow with the appropriate compiler flags.\n",
      "2023-04-12 10:52:00.756824: W tensorflow/compiler/tf2tensorrt/utils/py_utils.cc:38] TF-TRT Warning: Could not find TensorRT\n"
     ]
    }
   ],
   "source": [
    "status_list=[]\n",
    "for file in txt_files:\n",
    "    with open(\"output.txt\", \"w+\") as f:\n",
    "        subprocess.call([\"python\", file], stdout=f)     \n",
    "    f.close()\n",
    "    with open(\"output.txt\", \"r\") as f:\n",
    "        lines = f.readlines()\n",
    "        if len(lines)==0:\n",
    "            status_list.append(f\"{file} Not Executed successfully\")\n",
    "            continue\n",
    "        line = lines[-1:]\n",
    "    f.close()\n",
    "    if line[0] == 'Success Fully Executed\\n':\n",
    "        status_list.append(f\"{file} Executed successfully\")\n",
    "    else:\n",
    "        status_list.append(f\"{file} Not Executed successfully\")"
   ]
  },
  {
   "cell_type": "code",
   "execution_count": 15,
   "id": "e2d84799",
   "metadata": {},
   "outputs": [
    {
     "data": {
      "text/plain": [
       "['59950_r1.txt Not Executed successfully',\n",
       " '59965.txt Not Executed successfully',\n",
       " '59960.txt Not Executed successfully',\n",
       " '59926_r1.txt Executed successfully',\n",
       " 'output.txt Not Executed successfully',\n",
       " '59965 (1).txt Not Executed successfully',\n",
       " '_59920_test.txt Executed successfully']"
      ]
     },
     "execution_count": 15,
     "metadata": {},
     "output_type": "execute_result"
    }
   ],
   "source": [
    "status_list"
   ]
  },
  {
   "cell_type": "code",
   "execution_count": null,
   "id": "6529d7a9",
   "metadata": {},
   "outputs": [],
   "source": []
  },
  {
   "cell_type": "code",
   "execution_count": 18,
   "id": "d21f28c0",
   "metadata": {},
   "outputs": [],
   "source": [
    "test=['Untitled77.txt']"
   ]
  },
  {
   "cell_type": "code",
   "execution_count": 23,
   "id": "382352d5",
   "metadata": {},
   "outputs": [
    {
     "name": "stderr",
     "output_type": "stream",
     "text": [
      "  File \"/usr/local/google/home/kiransair/Downloads/Untitled77.txt\", line 1\n",
      "    !git clone https://github.com/Blackbird95x/Issue_Repo.git\n",
      "    ^\n",
      "SyntaxError: invalid syntax\n"
     ]
    }
   ],
   "source": [
    "status_list=[]\n",
    "for file in test:\n",
    "    with open(\"output.txt\", \"w+\") as f:\n",
    "        subprocess.call([\"python\", file], stdout=f)\n",
    "    f.close()\n",
    "    with open(\"output.txt\", \"r\") as f:\n",
    "        lines = f.readlines()\n",
    "        if len(lines)==0:\n",
    "            continue\n",
    "        line = lines[-1:]\n",
    "        print(line)\n",
    "    f.close()\n",
    "    if line[0] == 'Sucess Fully Executed\\n':\n",
    "        status_list.append(f\"{file} Executed sucessfully\")\n",
    "    else:\n",
    "        status_list.append(f\"{file} Not Executed sucessfully\")"
   ]
  },
  {
   "cell_type": "code",
   "execution_count": 24,
   "id": "c8c6eccc",
   "metadata": {},
   "outputs": [
    {
     "data": {
      "text/plain": [
       "[]"
      ]
     },
     "execution_count": 24,
     "metadata": {},
     "output_type": "execute_result"
    }
   ],
   "source": [
    "status_list"
   ]
  },
  {
   "cell_type": "code",
   "execution_count": 47,
   "id": "e55811ab",
   "metadata": {},
   "outputs": [
    {
     "data": {
      "text/plain": [
       "'/usr/local/google/home/kiransair/Downloads'"
      ]
     },
     "execution_count": 47,
     "metadata": {},
     "output_type": "execute_result"
    }
   ],
   "source": [
    "%pwd"
   ]
  },
  {
   "cell_type": "code",
   "execution_count": null,
   "id": "002cf070",
   "metadata": {},
   "outputs": [],
   "source": []
  }
 ],
 "metadata": {
  "kernelspec": {
   "display_name": "Python 3 (ipykernel)",
   "language": "python",
   "name": "python3"
  },
  "language_info": {
   "codemirror_mode": {
    "name": "ipython",
    "version": 3
   },
   "file_extension": ".py",
   "mimetype": "text/x-python",
   "name": "python",
   "nbconvert_exporter": "python",
   "pygments_lexer": "ipython3",
   "version": "3.9.16"
  }
 },
 "nbformat": 4,
 "nbformat_minor": 5
}
